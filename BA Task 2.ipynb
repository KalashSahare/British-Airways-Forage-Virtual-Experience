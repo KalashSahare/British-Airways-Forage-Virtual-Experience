{
 "cells": [
  {
   "cell_type": "markdown",
   "metadata": {},
   "source": [
    "# British Airways Task 2"
   ]
  },
  {
   "cell_type": "code",
   "execution_count": 1,
   "metadata": {},
   "outputs": [],
   "source": [
    "\n",
    "%matplotlib inline\n",
    "\n",
    "import pandas as pd\n",
    "import numpy as np\n",
    "import matplotlib.pyplot as plt\n",
    "import seaborn as sns\n"
   ]
  },
  {
   "cell_type": "code",
   "execution_count": 2,
   "metadata": {},
   "outputs": [],
   "source": [
    "import warnings\n",
    "warnings.filterwarnings(\"ignore\")\n",
    "\n",
    "data= r'C:\\Users\\KALASH SAHARE\\Documents\\DATA SCIENCE\\FORAGE\\BA\\customer_booking.csv'\n",
    "df= pd.read_csv(data, encoding='ISO-8859-1')"
   ]
  },
  {
   "cell_type": "markdown",
   "metadata": {},
   "source": [
    "## Check DATA and Preprocessing"
   ]
  },
  {
   "cell_type": "code",
   "execution_count": 3,
   "metadata": {},
   "outputs": [
    {
     "data": {
      "text/plain": [
       "num_passengers             int64\n",
       "sales_channel             object\n",
       "trip_type                 object\n",
       "purchase_lead              int64\n",
       "length_of_stay             int64\n",
       "flight_hour                int64\n",
       "flight_day                object\n",
       "route                     object\n",
       "booking_origin            object\n",
       "wants_extra_baggage        int64\n",
       "wants_preferred_seat       int64\n",
       "wants_in_flight_meals      int64\n",
       "flight_duration          float64\n",
       "booking_complete           int64\n",
       "dtype: object"
      ]
     },
     "execution_count": 3,
     "metadata": {},
     "output_type": "execute_result"
    }
   ],
   "source": [
    "df.dtypes"
   ]
  },
  {
   "cell_type": "code",
   "execution_count": 4,
   "metadata": {},
   "outputs": [
    {
     "name": "stdout",
     "output_type": "stream",
     "text": [
      "<class 'pandas.core.frame.DataFrame'>\n",
      "RangeIndex: 50000 entries, 0 to 49999\n",
      "Data columns (total 14 columns):\n",
      " #   Column                 Non-Null Count  Dtype  \n",
      "---  ------                 --------------  -----  \n",
      " 0   num_passengers         50000 non-null  int64  \n",
      " 1   sales_channel          50000 non-null  object \n",
      " 2   trip_type              50000 non-null  object \n",
      " 3   purchase_lead          50000 non-null  int64  \n",
      " 4   length_of_stay         50000 non-null  int64  \n",
      " 5   flight_hour            50000 non-null  int64  \n",
      " 6   flight_day             50000 non-null  object \n",
      " 7   route                  50000 non-null  object \n",
      " 8   booking_origin         50000 non-null  object \n",
      " 9   wants_extra_baggage    50000 non-null  int64  \n",
      " 10  wants_preferred_seat   50000 non-null  int64  \n",
      " 11  wants_in_flight_meals  50000 non-null  int64  \n",
      " 12  flight_duration        50000 non-null  float64\n",
      " 13  booking_complete       50000 non-null  int64  \n",
      "dtypes: float64(1), int64(8), object(5)\n",
      "memory usage: 5.3+ MB\n"
     ]
    }
   ],
   "source": [
    "df.info()"
   ]
  },
  {
   "cell_type": "code",
   "execution_count": 5,
   "metadata": {},
   "outputs": [
    {
     "data": {
      "text/plain": [
       "Index(['num_passengers', 'sales_channel', 'trip_type', 'purchase_lead',\n",
       "       'length_of_stay', 'flight_hour', 'flight_day', 'route',\n",
       "       'booking_origin', 'wants_extra_baggage', 'wants_preferred_seat',\n",
       "       'wants_in_flight_meals', 'flight_duration', 'booking_complete'],\n",
       "      dtype='object')"
      ]
     },
     "execution_count": 5,
     "metadata": {},
     "output_type": "execute_result"
    }
   ],
   "source": [
    "df.columns"
   ]
  },
  {
   "cell_type": "code",
   "execution_count": 6,
   "metadata": {},
   "outputs": [
    {
     "data": {
      "text/plain": [
       "(50000, 14)"
      ]
     },
     "execution_count": 6,
     "metadata": {},
     "output_type": "execute_result"
    }
   ],
   "source": [
    "df.shape"
   ]
  },
  {
   "cell_type": "code",
   "execution_count": 7,
   "metadata": {},
   "outputs": [
    {
     "data": {
      "text/plain": [
       "700000"
      ]
     },
     "execution_count": 7,
     "metadata": {},
     "output_type": "execute_result"
    }
   ],
   "source": [
    "df.size"
   ]
  },
  {
   "cell_type": "markdown",
   "metadata": {},
   "source": [
    "### Checking target variable value count"
   ]
  },
  {
   "cell_type": "code",
   "execution_count": 8,
   "metadata": {},
   "outputs": [
    {
     "data": {
      "image/png": "[encoded data removed]",
      "text/plain": [
       "<Figure size 432x288 with 1 Axes>"
      ]
     },
     "metadata": {},
     "output_type": "display_data"
    }
   ],
   "source": [
    "labels = df.booking_complete.unique()\n",
    "sizes = df.booking_complete.value_counts().values\n",
    "\n",
    "fig, ax = plt.subplots()\n",
    "ax.pie(sizes, labels=labels, autopct='%1.3f%%')\n",
    "ax.set_title('Target Variable Value Counts')\n",
    "plt.show()"
   ]
  },
  {
   "cell_type": "code",
   "execution_count": 9,
   "metadata": {},
   "outputs": [
    {
     "data": {
      "text/plain": [
       "0    42522\n",
       "1     7478\n",
       "Name: booking_complete, dtype: int64"
      ]
     },
     "execution_count": 9,
     "metadata": {},
     "output_type": "execute_result"
    }
   ],
   "source": [
    "df.booking_complete.value_counts()"
   ]
  },
  {
   "cell_type": "markdown",
   "metadata": {},
   "source": [
    "## Finding the correlation between features or the best features"
   ]
  },
  {
   "cell_type": "markdown",
   "metadata": {},
   "source": [
    "### using Correlation matrix"
   ]
  },
  {
   "cell_type": "code",
   "execution_count": 10,
   "metadata": {},
   "outputs": [
    {
     "name": "stdout",
     "output_type": "stream",
     "text": [
      "Feature: booking_complete, Correlation: 1.0\n",
      "Feature: flight_duration, Correlation: -0.10626610443249243\n",
      "Feature: wants_extra_baggage, Correlation: 0.06813851005646078\n",
      "Feature: wants_preferred_seat, Correlation: 0.05011595841666862\n",
      "Feature: length_of_stay, Correlation: -0.04240798189575175\n",
      "Feature: wants_in_flight_meals, Correlation: 0.02651081068232477\n",
      "Feature: num_passengers, Correlation: 0.02411622390727948\n",
      "Feature: purchase_lead, Correlation: -0.022130736497934962\n",
      "Feature: flight_hour, Correlation: 0.0071273049785766296\n"
     ]
    }
   ],
   "source": [
    "correlation_matrix = df.corr()\n",
    "target_correlations = correlation_matrix['booking_complete']\n",
    "sorted_features = target_correlations.abs().sort_values(ascending=False)\n",
    "for feature in sorted_features.index:\n",
    "    print(f\"Feature: {feature}, Correlation: {target_correlations[feature]}\")"
   ]
  },
  {
   "cell_type": "markdown",
   "metadata": {},
   "source": [
    "#### factorising the data set\n"
   ]
  },
  {
   "cell_type": "code",
   "execution_count": 11,
   "metadata": {},
   "outputs": [],
   "source": [
    "categorical_columns = [ 'sales_channel', 'trip_type',  'flight_day', 'route',\n",
    "       'booking_origin']\n",
    "for column in categorical_columns:\n",
    "    df[column], _ = pd.factorize(df[column])"
   ]
  },
  {
   "cell_type": "code",
   "execution_count": 12,
   "metadata": {},
   "outputs": [
    {
     "data": {
      "text/html": [
       "<div>\n",
       "<style scoped>\n",
       "    .dataframe tbody tr th:only-of-type {\n",
       "        vertical-align: middle;\n",
       "    }\n",
       "\n",
       "    .dataframe tbody tr th {\n",
       "        vertical-align: top;\n",
       "    }\n",
       "\n",
       "    .dataframe thead th {\n",
       "        text-align: right;\n",
       "    }\n",
       "</style>\n",
       "<table border=\"1\" class=\"dataframe\">\n",
       "  <thead>\n",
       "    <tr style=\"text-align: right;\">\n",
       "      <th></th>\n",
       "      <th>num_passengers</th>\n",
       "      <th>sales_channel</th>\n",
       "      <th>trip_type</th>\n",
       "      <th>purchase_lead</th>\n",
       "      <th>length_of_stay</th>\n",
       "      <th>flight_hour</th>\n",
       "      <th>flight_day</th>\n",
       "      <th>route</th>\n",
       "      <th>booking_origin</th>\n",
       "      <th>wants_extra_baggage</th>\n",
       "      <th>wants_preferred_seat</th>\n",
       "      <th>wants_in_flight_meals</th>\n",
       "      <th>flight_duration</th>\n",
       "      <th>booking_complete</th>\n",
       "    </tr>\n",
       "  </thead>\n",
       "  <tbody>\n",
       "    <tr>\n",
       "      <th>0</th>\n",
       "      <td>2</td>\n",
       "      <td>0</td>\n",
       "      <td>0</td>\n",
       "      <td>262</td>\n",
       "      <td>19</td>\n",
       "      <td>7</td>\n",
       "      <td>0</td>\n",
       "      <td>0</td>\n",
       "      <td>0</td>\n",
       "      <td>1</td>\n",
       "      <td>0</td>\n",
       "      <td>0</td>\n",
       "      <td>5.52</td>\n",
       "      <td>0</td>\n",
       "    </tr>\n",
       "    <tr>\n",
       "      <th>1</th>\n",
       "      <td>1</td>\n",
       "      <td>0</td>\n",
       "      <td>0</td>\n",
       "      <td>112</td>\n",
       "      <td>20</td>\n",
       "      <td>3</td>\n",
       "      <td>0</td>\n",
       "      <td>0</td>\n",
       "      <td>0</td>\n",
       "      <td>0</td>\n",
       "      <td>0</td>\n",
       "      <td>0</td>\n",
       "      <td>5.52</td>\n",
       "      <td>0</td>\n",
       "    </tr>\n",
       "    <tr>\n",
       "      <th>2</th>\n",
       "      <td>2</td>\n",
       "      <td>0</td>\n",
       "      <td>0</td>\n",
       "      <td>243</td>\n",
       "      <td>22</td>\n",
       "      <td>17</td>\n",
       "      <td>1</td>\n",
       "      <td>0</td>\n",
       "      <td>1</td>\n",
       "      <td>1</td>\n",
       "      <td>1</td>\n",
       "      <td>0</td>\n",
       "      <td>5.52</td>\n",
       "      <td>0</td>\n",
       "    </tr>\n",
       "    <tr>\n",
       "      <th>3</th>\n",
       "      <td>1</td>\n",
       "      <td>0</td>\n",
       "      <td>0</td>\n",
       "      <td>96</td>\n",
       "      <td>31</td>\n",
       "      <td>4</td>\n",
       "      <td>0</td>\n",
       "      <td>0</td>\n",
       "      <td>0</td>\n",
       "      <td>0</td>\n",
       "      <td>0</td>\n",
       "      <td>1</td>\n",
       "      <td>5.52</td>\n",
       "      <td>0</td>\n",
       "    </tr>\n",
       "    <tr>\n",
       "      <th>4</th>\n",
       "      <td>2</td>\n",
       "      <td>0</td>\n",
       "      <td>0</td>\n",
       "      <td>68</td>\n",
       "      <td>22</td>\n",
       "      <td>15</td>\n",
       "      <td>1</td>\n",
       "      <td>0</td>\n",
       "      <td>1</td>\n",
       "      <td>1</td>\n",
       "      <td>0</td>\n",
       "      <td>1</td>\n",
       "      <td>5.52</td>\n",
       "      <td>0</td>\n",
       "    </tr>\n",
       "  </tbody>\n",
       "</table>\n",
       "</div>"
      ],
      "text/plain": [
       "   num_passengers  sales_channel  trip_type  purchase_lead  length_of_stay  \\\n",
       "0               2              0          0            262              19   \n",
       "1               1              0          0            112              20   \n",
       "2               2              0          0            243              22   \n",
       "3               1              0          0             96              31   \n",
       "4               2              0          0             68              22   \n",
       "\n",
       "   flight_hour  flight_day  route  booking_origin  wants_extra_baggage  \\\n",
       "0            7           0      0               0                    1   \n",
       "1            3           0      0               0                    0   \n",
       "2           17           1      0               1                    1   \n",
       "3            4           0      0               0                    0   \n",
       "4           15           1      0               1                    1   \n",
       "\n",
       "   wants_preferred_seat  wants_in_flight_meals  flight_duration  \\\n",
       "0                     0                      0             5.52   \n",
       "1                     0                      0             5.52   \n",
       "2                     1                      0             5.52   \n",
       "3                     0                      1             5.52   \n",
       "4                     0                      1             5.52   \n",
       "\n",
       "   booking_complete  \n",
       "0                 0  \n",
       "1                 0  \n",
       "2                 0  \n",
       "3                 0  \n",
       "4                 0  "
      ]
     },
     "execution_count": 12,
     "metadata": {},
     "output_type": "execute_result"
    }
   ],
   "source": [
    "df.head()"
   ]
  },
  {
   "cell_type": "code",
   "execution_count": 13,
   "metadata": {},
   "outputs": [],
   "source": [
    "X = df.drop('booking_complete', axis=1)\n",
    "y = df['booking_complete']\n"
   ]
  },
  {
   "cell_type": "markdown",
   "metadata": {},
   "source": [
    "### using Chi sq test"
   ]
  },
  {
   "cell_type": "code",
   "execution_count": 14,
   "metadata": {},
   "outputs": [
    {
     "name": "stdout",
     "output_type": "stream",
     "text": [
      "Feature: num_passengers, Chi-Square Score: 19.0188763744229, P-Value: 1.2943169012206895e-05\n",
      "Feature: sales_channel, Chi-Square Score: 74.82388880188324, P-Value: 5.14632162992613e-18\n",
      "Feature: trip_type, Chi-Square Score: 68.57810616703692, P-Value: 1.2195053659726667e-16\n",
      "Feature: purchase_lead, Chi-Square Score: 2358.6783375505324, P-Value: 0.0\n",
      "Feature: length_of_stay, Chi-Square Score: 4480.964771815558, P-Value: 0.0\n",
      "Feature: flight_hour, Chi-Square Score: 8.207321528933498, P-Value: 0.004172169325625304\n",
      "Feature: flight_day, Chi-Square Score: 7.096857949327872, P-Value: 0.007721920204633393\n",
      "Feature: route, Chi-Square Score: 250.31484373917257, P-Value: 2.2171806274436016e-56\n",
      "Feature: booking_origin, Chi-Square Score: 17902.548232714416, P-Value: 0.0\n",
      "Feature: wants_extra_baggage, Chi-Square Score: 76.89034736954227, P-Value: 1.8071823460554737e-18\n",
      "Feature: wants_preferred_seat, Chi-Square Score: 88.28808969249067, P-Value: 5.6583125620989465e-21\n",
      "Feature: wants_in_flight_meals, Chi-Square Score: 20.130961567359346, P-Value: 7.2316487113970845e-06\n",
      "Feature: flight_duration, Chi-Square Score: 173.8317309831514, P-Value: 1.0772868305405077e-39\n",
      "top 5 features based on chi sq score:  Index(['booking_origin', 'length_of_stay', 'purchase_lead', 'route',\n",
      "       'flight_duration'],\n",
      "      dtype='object')\n",
      "top 5 features based on p values:  Index(['flight_day', 'flight_hour', 'num_passengers', 'wants_in_flight_meals',\n",
      "       'trip_type'],\n",
      "      dtype='object')\n"
     ]
    }
   ],
   "source": [
    "from sklearn.feature_selection import chi2\n",
    "\n",
    "chi2_scores, p_values = chi2(X, y)\n",
    "for feature, chi2_score, p_value in zip(X.columns, chi2_scores, p_values):\n",
    "    print(f\"Feature: {feature}, Chi-Square Score: {chi2_score}, P-Value: {p_value}\")\n",
    "k = 5  # Number of top features to select\n",
    "\n",
    "sorted_indices_c = chi2_scores.argsort()[::-1]  # For chi-squared scores\n",
    "sorted_indices_p = p_values.argsort()[::-1] # For p-values\n",
    "np.argsort(chi2_scores)[::-1]\n",
    "top_k_features_c = X.columns[sorted_indices_c[:k]]\n",
    "top_k_features_p = X.columns[sorted_indices_p[:k]]\n",
    "\n",
    "print('top 5 features based on chi sq score: ',top_k_features_c)\n",
    "print('top 5 features based on p values: ',top_k_features_p)"
   ]
  },
  {
   "cell_type": "code",
   "execution_count": 15,
   "metadata": {},
   "outputs": [
    {
     "name": "stdout",
     "output_type": "stream",
     "text": [
      "                                  0\n",
      "num_passengers            19.018876\n",
      "sales_channel             74.823889\n",
      "trip_type                 68.578106\n",
      "purchase_lead           2358.678338\n",
      "length_of_stay          4480.964772\n",
      "flight_hour                8.207322\n",
      "flight_day                 7.096858\n",
      "route                    250.314844\n",
      "booking_origin         17902.548233\n",
      "wants_extra_baggage       76.890347\n",
      "wants_preferred_seat      88.288090\n",
      "wants_in_flight_meals     20.130962\n",
      "flight_duration          173.831731\n",
      "                                  0\n",
      "num_passengers         1.294317e-05\n",
      "sales_channel          5.146322e-18\n",
      "trip_type              1.219505e-16\n",
      "purchase_lead          0.000000e+00\n",
      "length_of_stay         0.000000e+00\n",
      "flight_hour            4.172169e-03\n",
      "flight_day             7.721920e-03\n",
      "route                  2.217181e-56\n",
      "booking_origin         0.000000e+00\n",
      "wants_extra_baggage    1.807182e-18\n",
      "wants_preferred_seat   5.658313e-21\n",
      "wants_in_flight_meals  7.231649e-06\n",
      "flight_duration        1.077287e-39\n"
     ]
    }
   ],
   "source": [
    "CHI2_SCORES=pd.DataFrame(data=chi2_scores, index=X.columns)\n",
    "print(CHI2_SCORES)\n",
    "P_Values=pd.DataFrame(data=p_values, index=X.columns)\n",
    "print(P_Values)"
   ]
  },
  {
   "cell_type": "markdown",
   "metadata": {},
   "source": [
    "###  using Recursive Feature Elimination (RFE)"
   ]
  },
  {
   "cell_type": "code",
   "execution_count": 16,
   "metadata": {},
   "outputs": [
    {
     "data": {
      "text/plain": [
       "Index(['sales_channel', 'trip_type', 'wants_extra_baggage',\n",
       "       'wants_preferred_seat', 'flight_duration'],\n",
       "      dtype='object')"
      ]
     },
     "execution_count": 16,
     "metadata": {},
     "output_type": "execute_result"
    }
   ],
   "source": [
    "from sklearn.feature_selection import RFE\n",
    "from sklearn.linear_model import LogisticRegression\n",
    "\n",
    "model = LogisticRegression()\n",
    "rfe = RFE(model, n_features_to_select=5)\n",
    "rfe.fit(X, y)\n",
    "\n",
    "selected_features_RFE = X.columns[rfe.support_]\n",
    "selected_features_RFE"
   ]
  },
  {
   "cell_type": "markdown",
   "metadata": {},
   "source": [
    "### using Mutual INFO"
   ]
  },
  {
   "cell_type": "code",
   "execution_count": 17,
   "metadata": {},
   "outputs": [
    {
     "data": {
      "text/plain": [
       "route                    0.054561\n",
       "booking_origin           0.049758\n",
       "flight_duration          0.020910\n",
       "length_of_stay           0.009715\n",
       "wants_extra_baggage      0.007927\n",
       "flight_hour              0.003350\n",
       "num_passengers           0.003033\n",
       "sales_channel            0.002995\n",
       "wants_preferred_seat     0.002967\n",
       "purchase_lead            0.001176\n",
       "trip_type                0.001087\n",
       "wants_in_flight_meals    0.000000\n",
       "flight_day               0.000000\n",
       "Name: MI Scores, dtype: float64"
      ]
     },
     "execution_count": 17,
     "metadata": {},
     "output_type": "execute_result"
    }
   ],
   "source": [
    "from sklearn.feature_selection import mutual_info_classif\n",
    "\n",
    "mi_scores = mutual_info_classif(X, y)\n",
    "mi_scores = pd.Series(mi_scores, name=\"MI Scores\", index=X.columns)\n",
    "mi_scores = mi_scores.sort_values(ascending=False)\n",
    "\n",
    "mi_scores # show a few features with their MI scores"
   ]
  },
  {
   "cell_type": "markdown",
   "metadata": {},
   "source": [
    "### plotting features"
   ]
  },
  {
   "cell_type": "code",
   "execution_count": 18,
   "metadata": {},
   "outputs": [],
   "source": [
    "def plot_m_scores(scores,label):\n",
    "    scores = scores.sort_values(ascending=True)\n",
    "    width = np.arange(len(scores))\n",
    "    ticks = list(scores.index)\n",
    "    plt.barh(width, scores)\n",
    "    plt.yticks(width, ticks)\n",
    "    plt.title(label)\n",
    "\n"
   ]
  },
  {
   "cell_type": "code",
   "execution_count": null,
   "metadata": {},
   "outputs": [],
   "source": []
  },
  {
   "cell_type": "code",
   "execution_count": 19,
   "metadata": {},
   "outputs": [
    {
     "data": {
      "image/png": "[encoded data removed]",
      "text/plain": [
       "<Figure size 800x500 with 1 Axes>"
      ]
     },
     "metadata": {
      "needs_background": "light"
     },
     "output_type": "display_data"
    }
   ],
   "source": [
    "plt.figure(dpi=100, figsize=(8, 5))\n",
    "plot_m_scores(mi_scores,\"Mutual Info Score\")"
   ]
  },
  {
   "cell_type": "code",
   "execution_count": 20,
   "metadata": {},
   "outputs": [
    {
     "data": {
      "text/plain": [
       "<Figure size 800x500 with 0 Axes>"
      ]
     },
     "metadata": {},
     "output_type": "display_data"
    },
    {
     "data": {
      "image/png": "[encoded data removed]",
      "text/plain": [
       "<Figure size 432x288 with 1 Axes>"
      ]
     },
     "metadata": {
      "needs_background": "light"
     },
     "output_type": "display_data"
    },
    {
     "data": {
      "text/plain": [
       "<Figure size 800x500 with 0 Axes>"
      ]
     },
     "metadata": {},
     "output_type": "display_data"
    },
    {
     "data": {
      "image/png": "[encoded data removed]",
      "text/plain": [
       "<Figure size 432x288 with 1 Axes>"
      ]
     },
     "metadata": {
      "needs_background": "light"
     },
     "output_type": "display_data"
    }
   ],
   "source": [
    "plt.figure(dpi=100, figsize=(8, 5))\n",
    "CHI2_SCORES.plot(kind='bar')  # Bar graph\n",
    "plt.xlabel('Features')  # X-axis label\n",
    "plt.ylabel('Values')  # Y-axis label\n",
    "plt.title('Chi_sq test scores')\n",
    "plt.show()\n",
    "\n",
    "plt.figure(dpi=100, figsize=(8, 5))\n",
    "P_Values.plot(kind='bar')  # Bar graph\n",
    "plt.xlabel('Features')  # X-axis label\n",
    "plt.ylabel('Values')  # Y-axis label\n",
    "plt.title('P_Values')\n",
    "plt.show()\n",
    "\n"
   ]
  },
  {
   "cell_type": "code",
   "execution_count": 24,
   "metadata": {},
   "outputs": [],
   "source": [
    "MI_features=mi_scores[0:k].index"
   ]
  },
  {
   "cell_type": "code",
   "execution_count": 25,
   "metadata": {},
   "outputs": [],
   "source": [
    "from sklearn.model_selection import train_test_split\n",
    "from sklearn.metrics import roc_auc_score\n",
    "from sklearn.metrics import accuracy_score\n",
    "from sklearn.ensemble import RandomForestClassifier\n",
    "from sklearn.preprocessing import MinMaxScaler\n"
   ]
  },
  {
   "cell_type": "code",
   "execution_count": 26,
   "metadata": {},
   "outputs": [],
   "source": [
    "def dataset(X,y):\n",
    "    train_full_X, val_X, train_full_y, val_y = train_test_split(X, y,test_size=0.2,random_state = 0)\n",
    "    train_X, test_X, train_y, test_y = train_test_split(train_full_X, train_full_y, test_size=0.25,random_state = 0)\n",
    "    return (train_X, val_X, train_y, val_y)\n",
    "     \n",
    "\n",
    "def scale(X):\n",
    "    scaler = MinMaxScaler()\n",
    "    scaler.fit(X)\n",
    "    return X"
   ]
  },
  {
   "cell_type": "markdown",
   "metadata": {},
   "source": [
    "## Random Forest Classifier\n"
   ]
  },
  {
   "cell_type": "code",
   "execution_count": 28,
   "metadata": {},
   "outputs": [],
   "source": [
    "# getting train test data\n",
    "X = pd.get_dummies(X)\n",
    "X= scale(X)\n",
    "train_X,test_X,train_y,test_y=train_test_split(X, y,test_size=0.2,random_state = 0)\n"
   ]
  },
  {
   "cell_type": "markdown",
   "metadata": {},
   "source": [
    "### Model 1 RFC on all features"
   ]
  },
  {
   "cell_type": "code",
   "execution_count": 29,
   "metadata": {},
   "outputs": [
    {
     "name": "stdout",
     "output_type": "stream",
     "text": [
      "ACCURACY:  0.8507\n",
      "AUC score:  0.5484289529236854\n"
     ]
    }
   ],
   "source": [
    "\n",
    "forest_model1= RandomForestClassifier(random_state=1)\n",
    "forest_model1.fit(train_X, train_y)\n",
    "preds= forest_model1.predict(test_X)\n",
    "\n",
    "print('ACCURACY: ',accuracy_score(test_y,preds))\n",
    "print('AUC score: ',roc_auc_score(test_y,preds))"
   ]
  },
  {
   "cell_type": "markdown",
   "metadata": {},
   "source": [
    "### Model 2 RFC on Mutual features"
   ]
  },
  {
   "cell_type": "code",
   "execution_count": 32,
   "metadata": {},
   "outputs": [
    {
     "name": "stdout",
     "output_type": "stream",
     "text": [
      "ACCURACY:  0.8297\n",
      "AUC score:  0.5645704316177045\n"
     ]
    }
   ],
   "source": [
    "X_Mf=X[MI_features]\n",
    "train_Xmf,test_Xmf,train_ymf,test_ymf=train_test_split(X_Mf, y,test_size=0.2,random_state = 0)\n",
    "forest_model2= RandomForestClassifier(random_state=1)\n",
    "forest_model2.fit(train_Xmf, train_ymf)\n",
    "preds= forest_model2.predict(test_Xmf)\n",
    "\n",
    "print('ACCURACY: ',accuracy_score(test_ymf,preds))\n",
    "print('AUC score: ',roc_auc_score(test_ymf,preds))"
   ]
  },
  {
   "cell_type": "markdown",
   "metadata": {},
   "source": [
    "### Model 3 RFC on chi2 features\n"
   ]
  },
  {
   "cell_type": "code",
   "execution_count": 34,
   "metadata": {},
   "outputs": [
    {
     "name": "stdout",
     "output_type": "stream",
     "text": [
      "ACCURACY:  0.8329\n",
      "AUC score:  0.5822058946185026\n"
     ]
    }
   ],
   "source": [
    "X_c2=X[top_k_features_c]\n",
    "train_Xc2,test_Xc2,train_yc2,test_yc2=train_test_split(X_c2, y,test_size=0.2,random_state = 0)\n",
    "forest_model3= RandomForestClassifier(random_state=1)\n",
    "forest_model3.fit(train_Xc2, train_yc2)\n",
    "preds= forest_model3.predict(test_Xc2)\n",
    "\n",
    "print('ACCURACY: ',accuracy_score(test_yc2,preds))\n",
    "print('AUC score: ',roc_auc_score(test_yc2,preds))"
   ]
  },
  {
   "cell_type": "markdown",
   "metadata": {},
   "source": [
    "### Model 4 RFC on RFE features"
   ]
  },
  {
   "cell_type": "code",
   "execution_count": 35,
   "metadata": {},
   "outputs": [
    {
     "name": "stdout",
     "output_type": "stream",
     "text": [
      "ACCURACY:  0.8474\n",
      "AUC score:  0.4997772340434976\n"
     ]
    }
   ],
   "source": [
    "X_rfe=X[selected_features_RFE]\n",
    "train_Xrfe,test_Xrfe,train_yrfe,test_yrfe=train_test_split(X_rfe, y,test_size=0.2,random_state = 0)\n",
    "forest_model4= RandomForestClassifier(random_state=1)\n",
    "forest_model4.fit(train_Xrfe, train_yrfe)\n",
    "preds= forest_model4.predict(test_Xrfe)\n",
    "\n",
    "print('ACCURACY: ',accuracy_score(test_yrfe,preds))\n",
    "print('AUC score: ',roc_auc_score(test_yrfe,preds))"
   ]
  },
  {
   "cell_type": "markdown",
   "metadata": {},
   "source": [
    "### Model 5 RFC on pvalue features"
   ]
  },
  {
   "cell_type": "code",
   "execution_count": 36,
   "metadata": {},
   "outputs": [
    {
     "name": "stdout",
     "output_type": "stream",
     "text": [
      "ACCURACY:  0.8445\n",
      "AUC score:  0.5007842950351111\n"
     ]
    }
   ],
   "source": [
    "X_p=X[top_k_features_p]\n",
    "train_Xp,test_Xp,train_yp,test_yp=train_test_split(X_p, y,test_size=0.2,random_state = 0)\n",
    "forest_model5= RandomForestClassifier(random_state=1)\n",
    "forest_model5.fit(train_Xp, train_yp)\n",
    "preds= forest_model5.predict(test_Xp)\n",
    "\n",
    "print('ACCURACY: ',accuracy_score(test_yp,preds))\n",
    "print('AUC score: ',roc_auc_score(test_yp,preds))"
   ]
  },
  {
   "cell_type": "code",
   "execution_count": 37,
   "metadata": {},
   "outputs": [
    {
     "data": {
      "text/plain": [
       "Index(['route', 'booking_origin', 'flight_duration', 'length_of_stay',\n",
       "       'wants_extra_baggage'],\n",
       "      dtype='object')"
      ]
     },
     "execution_count": 37,
     "metadata": {},
     "output_type": "execute_result"
    }
   ],
   "source": [
    "MI_features\n"
   ]
  },
  {
   "cell_type": "code",
   "execution_count": 38,
   "metadata": {},
   "outputs": [
    {
     "data": {
      "text/plain": [
       "Index(['booking_origin', 'length_of_stay', 'purchase_lead', 'route',\n",
       "       'flight_duration'],\n",
       "      dtype='object')"
      ]
     },
     "execution_count": 38,
     "metadata": {},
     "output_type": "execute_result"
    }
   ],
   "source": [
    "top_k_features_c"
   ]
  },
  {
   "cell_type": "code",
   "execution_count": 39,
   "metadata": {},
   "outputs": [
    {
     "data": {
      "text/plain": [
       "Index(['flight_day', 'flight_hour', 'num_passengers', 'wants_in_flight_meals',\n",
       "       'trip_type'],\n",
       "      dtype='object')"
      ]
     },
     "execution_count": 39,
     "metadata": {},
     "output_type": "execute_result"
    }
   ],
   "source": [
    "top_k_features_p"
   ]
  },
  {
   "cell_type": "code",
   "execution_count": 40,
   "metadata": {},
   "outputs": [
    {
     "data": {
      "text/plain": [
       "Index(['sales_channel', 'trip_type', 'wants_extra_baggage',\n",
       "       'wants_preferred_seat', 'flight_duration'],\n",
       "      dtype='object')"
      ]
     },
     "execution_count": 40,
     "metadata": {},
     "output_type": "execute_result"
    }
   ],
   "source": [
    "selected_features_RFE"
   ]
  },
  {
   "cell_type": "code",
   "execution_count": null,
   "metadata": {},
   "outputs": [],
   "source": []
  }
 ],
 "metadata": {
  "kernelspec": {
   "display_name": "Python 3",
   "language": "python",
   "name": "python3"
  },
  "language_info": {
   "codemirror_mode": {
    "name": "ipython",
    "version": 3
   },
   "file_extension": ".py",
   "mimetype": "text/x-python",
   "name": "python",
   "nbconvert_exporter": "python",
   "pygments_lexer": "ipython3",
   "version": "3.8.5"
  }
 },
 "nbformat": 4,
 "nbformat_minor": 2
}
